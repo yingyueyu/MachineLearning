{
 "cells": [
  {
   "cell_type": "code",
   "execution_count": 2,
   "id": "a34ccbb3-6c3a-4583-85f8-04bac7c0d00f",
   "metadata": {},
   "outputs": [
    {
     "name": "stdout",
     "output_type": "stream",
     "text": [
      "Looking in indexes: http://mirrors.aliyun.com/pypi/simple\n",
      "Collecting opencv-python\n",
      "  Downloading http://mirrors.aliyun.com/pypi/packages/3f/a4/d2537f47fd7fcfba966bd806e3ec18e7ee1681056d4b0a9c8d983983e4d5/opencv_python-4.10.0.84-cp37-abi3-manylinux_2_17_x86_64.manylinux2014_x86_64.whl (62.5 MB)\n",
      "\u001b[2K     \u001b[90m━━━━━━━━━━━━━━━━━━━━━━━━━━━━━━━━━━━━━━━━\u001b[0m \u001b[32m62.5/62.5 MB\u001b[0m \u001b[31m1.0 MB/s\u001b[0m eta \u001b[36m0:00:00\u001b[0m00:01\u001b[0m00:02\u001b[0mm\n",
      "\u001b[?25hCollecting opencv-contrib-python\n",
      "  Downloading http://mirrors.aliyun.com/pypi/packages/b0/e0/8f5d065ebb2e5941d289c5f653f944318f9e418bc5167bc6a346ab5e0f6a/opencv_contrib_python-4.10.0.84-cp37-abi3-manylinux_2_17_x86_64.manylinux2014_x86_64.whl (68.7 MB)\n",
      "\u001b[2K     \u001b[90m━━━━━━━━━━━━━━━━━━━━━━━━━━━━━━━━━━━━━━━\u001b[0m \u001b[32m68.7/68.7 MB\u001b[0m \u001b[31m865.6 kB/s\u001b[0m eta \u001b[36m0:00:00\u001b[0m00:01\u001b[0m00:02\u001b[0m\n",
      "\u001b[?25hRequirement already satisfied: numpy>=1.17.3 in ./miniconda3/lib/python3.10/site-packages (from opencv-python) (1.26.4)\n",
      "Installing collected packages: opencv-python, opencv-contrib-python\n",
      "Successfully installed opencv-contrib-python-4.10.0.84 opencv-python-4.10.0.84\n",
      "\u001b[33mWARNING: Running pip as the 'root' user can result in broken permissions and conflicting behaviour with the system package manager. It is recommended to use a virtual environment instead: https://pip.pypa.io/warnings/venv\u001b[0m\u001b[33m\n",
      "\u001b[0mNote: you may need to restart the kernel to use updated packages.\n"
     ]
    }
   ],
   "source": [
    "pip install opencv-python opencv-contrib-python"
   ]
  },
  {
   "cell_type": "code",
   "execution_count": 1,
   "id": "bd39aaa5-3d42-4782-a7a0-0dced1788012",
   "metadata": {},
   "outputs": [],
   "source": [
    "from xml.dom.minidom import parse\n",
    "import os\n",
    "import cv2\n",
    "import torch\n",
    "\n",
    "def generate_batch_size(data, batch_size):\n",
    "    images, gts = data['images'], data['gts']\n",
    "    images = torch.stack(images, dim=0)\n",
    "    len_images = len(images)\n",
    "    num_batch = len_images // batch_size\n",
    "    batch_images = []\n",
    "    batch_gits = []\n",
    "    for i in range(num_batch):\n",
    "        batch_data = images[i * batch_size: (i + 1) * batch_size]\n",
    "        batch_images.append(batch_data)\n",
    "        boxes = []\n",
    "        for j in range(i * batch_size, (i + 1) * batch_size):\n",
    "            box = gts[j][:, 1:]\n",
    "            label = gts[j][:, 0]\n",
    "            # ------- 将每一张图片的所有真实框的位置信息与它的标签一起放置\n",
    "            boxes.append({\"boxes\": box, \"labels\": label.long()})\n",
    "        batch_gits.append(boxes)\n",
    "    return batch_images, batch_gits"
   ]
  },
  {
   "cell_type": "code",
   "execution_count": null,
   "id": "de824e8f-6b6b-40ac-80c0-edd6b0635be3",
   "metadata": {},
   "outputs": [
    {
     "name": "stdout",
     "output_type": "stream",
     "text": [
      "epoch 1 / 10000 -- loss:1.0459\n",
      "GPU in use 11.1883/12.0 G\n",
      "epoch 2 / 10000 -- loss:0.6605\n",
      "GPU in use 11.1883/12.0 G\n",
      "epoch 3 / 10000 -- loss:0.5555\n",
      "GPU in use 11.1883/12.0 G\n",
      "epoch 4 / 10000 -- loss:0.5055\n",
      "GPU in use 11.1883/12.0 G\n",
      "epoch 5 / 10000 -- loss:0.4788\n",
      "GPU in use 11.1883/12.0 G\n",
      "epoch 6 / 10000 -- loss:0.4466\n",
      "GPU in use 11.1883/12.0 G\n",
      "epoch 7 / 10000 -- loss:0.4207\n",
      "GPU in use 11.1883/12.0 G\n",
      "epoch 8 / 10000 -- loss:0.4138\n",
      "GPU in use 11.1883/12.0 G\n",
      "epoch 9 / 10000 -- loss:0.3965\n",
      "GPU in use 11.1883/12.0 G\n",
      "epoch 10 / 10000 -- loss:0.3756\n",
      "GPU in use 11.1883/12.0 G\n",
      "epoch 11 / 10000 -- loss:0.3472\n",
      "GPU in use 11.1883/12.0 G\n",
      "epoch 12 / 10000 -- loss:0.3277\n",
      "GPU in use 11.1883/12.0 G\n"
     ]
    }
   ],
   "source": [
    "import torch\n",
    "import torchvision\n",
    "from torchvision.models import MobileNet_V2_Weights\n",
    "from torchvision.models.detection import FasterRCNN\n",
    "from torchvision.models.detection.rpn import AnchorGenerator\n",
    "import pynvml\n",
    "\n",
    "\n",
    "device = torch.device(\"cuda:0\")\n",
    "\n",
    "backbone = torchvision.models.mobilenet_v2(weights=MobileNet_V2_Weights.DEFAULT).features\n",
    "backbone = backbone.to(device)\n",
    "backbone.out_channels = 1280\n",
    "\n",
    "anchor_generator = AnchorGenerator(sizes=((64, 128, 256),),\n",
    "                                   aspect_ratios=((0.5, 1.0, 2.0),))\n",
    "\n",
    "roi_pooler = torchvision.ops.MultiScaleRoIAlign(featmap_names=['0'],\n",
    "                                                output_size=7,\n",
    "                                                sampling_ratio=2)\n",
    "roi_pooler = roi_pooler.to(device)\n",
    "\n",
    "model = FasterRCNN(backbone,\n",
    "                   num_classes=21,\n",
    "                   rpn_anchor_generator=anchor_generator,\n",
    "                   box_roi_pool=roi_pooler)\n",
    "model = model.to(device)\n",
    "\n",
    "data = torch.load(\"./data/dog_train.pth\", weights_only=False)\n",
    "batch_images, batch_gits = generate_batch_size(data, 6)\n",
    "optimizer = torch.optim.Adam(model.parameters(), lr=1e-3)\n",
    "\n",
    "# 显存监控（假如20batch_size 显存未满，则向上调解)）\n",
    "pynvml.nvmlInit()\n",
    "handle = pynvml.nvmlDeviceGetHandleByIndex(0)\n",
    "# ------------------------训练------------------------\n",
    "model.train()\n",
    "epochs = 10000\n",
    "for epoch in range(epochs):\n",
    "    losses = []\n",
    "    for images, gts in zip(batch_images, batch_gits):\n",
    "        images = images.to(device)\n",
    "        optimizer.zero_grad()\n",
    "        result = model(images.float(), gts)\n",
    "        loss_classifier = result['loss_classifier']\n",
    "        loss_box_reg = result['loss_box_reg']\n",
    "        loss_objectness = result['loss_objectness']\n",
    "        loss_rpn_box_reg = result['loss_rpn_box_reg']\n",
    "        loss = loss_classifier + loss_box_reg + loss_objectness + loss_rpn_box_reg\n",
    "        loss.backward()\n",
    "        optimizer.step()\n",
    "\n",
    "        losses.append(loss.item())\n",
    "\n",
    "    total_loss = sum(losses) / len(losses)\n",
    "    print(f\"epoch {epoch + 1} / {epochs} -- loss:{total_loss:.4f}\")\n",
    "\n",
    "    meminfo = pynvml.nvmlDeviceGetMemoryInfo(handle)\n",
    "    print(f'GPU in use {(meminfo.used / 1024 ** 3):.4f}/{meminfo.total / 1024 ** 3} G')\n"
   ]
  },
  {
   "cell_type": "code",
   "execution_count": null,
   "id": "70361351-f025-4a56-a95b-68da1c80f17e",
   "metadata": {},
   "outputs": [],
   "source": []
  }
 ],
 "metadata": {
  "kernelspec": {
   "display_name": "Python 3 (ipykernel)",
   "language": "python",
   "name": "python3"
  },
  "language_info": {
   "codemirror_mode": {
    "name": "ipython",
    "version": 3
   },
   "file_extension": ".py",
   "mimetype": "text/x-python",
   "name": "python",
   "nbconvert_exporter": "python",
   "pygments_lexer": "ipython3",
   "version": "3.10.8"
  }
 },
 "nbformat": 4,
 "nbformat_minor": 5
}
